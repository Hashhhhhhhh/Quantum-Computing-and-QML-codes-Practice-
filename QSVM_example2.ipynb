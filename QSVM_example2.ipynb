{
  "nbformat": 4,
  "nbformat_minor": 0,
  "metadata": {
    "colab": {
      "provenance": [],
      "authorship_tag": "ABX9TyNHD1BBxJXfCg0XkVPhQiy6",
      "include_colab_link": true
    },
    "kernelspec": {
      "name": "python3",
      "display_name": "Python 3"
    },
    "language_info": {
      "name": "python"
    }
  },
  "cells": [
    {
      "cell_type": "markdown",
      "metadata": {
        "id": "view-in-github",
        "colab_type": "text"
      },
      "source": [
        "<a href=\"https://colab.research.google.com/github/Hashhhhhhhh/Quantum-Computing-using-Qiskit/blob/main/QSVM_example2.ipynb\" target=\"_parent\"><img src=\"https://colab.research.google.com/assets/colab-badge.svg\" alt=\"Open In Colab\"/></a>"
      ]
    },
    {
      "cell_type": "code",
      "execution_count": 18,
      "metadata": {
        "id": "YwUO7mwM1x_M"
      },
      "outputs": [],
      "source": [
        "import numpy as np\n",
        "# Number of qubits\n",
        "n_qubits = 3\n",
        "dim = 2 ** n_qubits"
      ]
    },
    {
      "cell_type": "code",
      "source": [
        "#single-qubit rotation around Y-axis\n",
        "def RY(theta):\n",
        "    return np.array([[np.cos(theta / 2), -np.sin(theta / 2)],\n",
        "                     [np.sin(theta / 2),  np.cos(theta / 2)]])"
      ],
      "metadata": {
        "id": "26VsWlzU101l"
      },
      "execution_count": 19,
      "outputs": []
    },
    {
      "cell_type": "code",
      "source": [
        "# Define single-qubit Identity\n",
        "I = np.eye(2)\n",
        "\n",
        "# Construct multi-qubit gate from single-qubit gates via tensor product\n",
        "def kron_n(gates):\n",
        "    result = np.array([[1]])\n",
        "    for g in gates:\n",
        "        result = np.kron(result, g)\n",
        "    return result"
      ],
      "metadata": {
        "id": "-UOCvm9P17dS"
      },
      "execution_count": 20,
      "outputs": []
    },
    {
      "cell_type": "code",
      "source": [
        "# Construct CNOT gate on 3 qubits\n",
        "def CNOT(control, target, n_qubits=3):\n",
        "    size = 2 ** n_qubits\n",
        "    mat = np.zeros((size, size), dtype=complex)\n",
        "    for i in range(size):\n",
        "        bin_str = np.binary_repr(i, width=n_qubits)\n",
        "        bits = list(map(int, bin_str))\n",
        "        if bits[control] == 0:\n",
        "            j = i\n",
        "        else:\n",
        "            bits[target] ^= 1  # flip target bit\n",
        "            j = int(\"\".join(map(str, bits)), 2)\n",
        "        mat[j, i] = 1\n",
        "    return mat"
      ],
      "metadata": {
        "id": "H2qncW9c2Bgt"
      },
      "execution_count": 21,
      "outputs": []
    },
    {
      "cell_type": "code",
      "source": [
        "# Apply a single-qubit gate to qubit q in n_qubits system\n",
        "def apply_single_qubit_gate(gate, q, n_qubits=3):\n",
        "    gates = []\n",
        "    for i in range(n_qubits):\n",
        "        if i == q:\n",
        "            gates.append(gate)\n",
        "        else:\n",
        "            gates.append(I)\n",
        "    return kron_n(gates)"
      ],
      "metadata": {
        "id": "Ux-9Aw_x2FIK"
      },
      "execution_count": 22,
      "outputs": []
    },
    {
      "cell_type": "code",
      "source": [
        "# Feature map as matrix\n",
        "def feature_map_matrix(x):\n",
        "    U = np.eye(dim, dtype=complex)\n",
        "    # Step 1: RY rotations by x_i * pi\n",
        "    for q in range(n_qubits):\n",
        "        U = apply_single_qubit_gate(RY(x[q] * np.pi), q) @ U\n",
        "    # Step 2: CNOT(0->1) then CNOT(1->2)\n",
        "    U = CNOT(0, 1) @ U\n",
        "    U = CNOT(1, 2) @ U\n",
        "    # Step 3: RY rotations by x_i * pi/2\n",
        "    for q in range(n_qubits):\n",
        "        U = apply_single_qubit_gate(RY(x[q] * np.pi / 2), q) @ U\n",
        "    return U"
      ],
      "metadata": {
        "id": "VIjzWT-B2I29"
      },
      "execution_count": 23,
      "outputs": []
    },
    {
      "cell_type": "code",
      "source": [
        "# Prepare |0...0> state\n",
        "zero_state = np.zeros(dim, dtype=complex)\n",
        "zero_state[0] = 1\n",
        "\n",
        "# Quantum kernel between x and y\n",
        "def quantum_kernel(x, y):\n",
        "    Ux = feature_map_matrix(x)\n",
        "    Uy = feature_map_matrix(y)\n",
        "    # Apply U_y^\\dagger U_x to |0>\n",
        "    psi = Uy.conj().T @ Ux @ zero_state\n",
        "    # Kernel = probability amplitude squared of |000>\n",
        "    return np.abs(psi[0]) ** 2"
      ],
      "metadata": {
        "id": "1Cp4KyhA2L8z"
      },
      "execution_count": 24,
      "outputs": []
    },
    {
      "cell_type": "code",
      "source": [
        "# Construct kernel matrix for dataset X\n",
        "def construct_kernel_matrix(X1, X2=None):\n",
        "    if X2 is None:\n",
        "        X2 = X1\n",
        "    n1 = len(X1)\n",
        "    n2 = len(X2)\n",
        "    K = np.zeros((n1, n2))\n",
        "    for i in range(n1):\n",
        "        for j in range(n2):\n",
        "            K[i, j] = quantum_kernel(X1[i], X2[j])\n",
        "    return K"
      ],
      "metadata": {
        "id": "xylDm2GP2O6w"
      },
      "execution_count": 25,
      "outputs": []
    },
    {
      "cell_type": "code",
      "source": [
        "X = np.array([\n",
        "    [0.1, 0.3, 0.5],\n",
        "    [0.2, 0.1, 0.4],\n",
        "    [0.4, 0.7, 0.2],\n",
        "    [0.9, 0.6, 0.8],\n",
        "    [0.7, 0.9, 0.3]\n",
        "])\n",
        "\n",
        "K = construct_kernel_matrix(X)\n",
        "print(\"Quantum kernel matrix:\\n\", K)"
      ],
      "metadata": {
        "colab": {
          "base_uri": "https://localhost:8080/"
        },
        "id": "LtYLBRua2SCx",
        "outputId": "c4c45e9d-f334-4710-c78f-de3fecd2503b"
      },
      "execution_count": 26,
      "outputs": [
        {
          "output_type": "stream",
          "name": "stdout",
          "text": [
            "Quantum kernel matrix:\n",
            " [[1.         0.72118853 0.13412747 0.05070486 0.03030693]\n",
            " [0.72118853 1.         0.05199311 0.00710148 0.01818903]\n",
            " [0.13412747 0.05199311 1.         0.01881182 0.53040472]\n",
            " [0.05070486 0.00710148 0.01881182 1.         0.20259647]\n",
            " [0.03030693 0.01818903 0.53040472 0.20259647 1.        ]]\n"
          ]
        }
      ]
    },
    {
      "cell_type": "code",
      "source": [
        "from sklearn.svm import SVC\n",
        "\n",
        "# Assuming you already have the kernel matrix K and labels y\n",
        "# Example labels: binary classification\n",
        "y = np.array([0, 0, 1, 1, 1])\n",
        "\n",
        "# Train classical SVM using precomputed quantum kernel matrix\n",
        "svm = SVC(kernel='precomputed')\n",
        "svm.fit(K, y)\n",
        "\n",
        "# Classify a new sample using the quantum kernel with training data\n",
        "def classify_new(sample, X_train, svm_model):\n",
        "    # Compute kernel vector between sample and training data\n",
        "    kernel_vec = np.array([quantum_kernel(sample, x) for x in X_train]).reshape(1, -1)\n",
        "    # Predict class label\n",
        "    return svm_model.predict(kernel_vec)[0]\n",
        "\n",
        "# Test classification on a new data point\n",
        "new_sample = np.array([0.3, 0.5, 0.4])\n",
        "predicted_label = classify_new(new_sample, X, svm)\n",
        "print(\"Predicted class for new sample:\", predicted_label)\n",
        "print()\n",
        "print(K)"
      ],
      "metadata": {
        "colab": {
          "base_uri": "https://localhost:8080/"
        },
        "id": "rQvJoJoN2VDy",
        "outputId": "d61d00df-0ee9-4fa2-8441-45e805bf2f9e"
      },
      "execution_count": 27,
      "outputs": [
        {
          "output_type": "stream",
          "name": "stdout",
          "text": [
            "Predicted class for new sample: 0\n",
            "\n",
            "[[1.         0.72118853 0.13412747 0.05070486 0.03030693]\n",
            " [0.72118853 1.         0.05199311 0.00710148 0.01818903]\n",
            " [0.13412747 0.05199311 1.         0.01881182 0.53040472]\n",
            " [0.05070486 0.00710148 0.01881182 1.         0.20259647]\n",
            " [0.03030693 0.01818903 0.53040472 0.20259647 1.        ]]\n"
          ]
        }
      ]
    }
  ]
}